{
 "cells": [
  {
   "cell_type": "markdown",
   "id": "c8d077ab-2d7d-459e-b897-ed99ca0e0643",
   "metadata": {},
   "source": [
    "# FILTER MECHANISM"
   ]
  },
  {
   "cell_type": "code",
   "execution_count": 3,
   "id": "00bcf349-af3c-4cd3-8b7c-9fdd59a24d74",
   "metadata": {},
   "outputs": [],
   "source": [
    "import pandas as pd"
   ]
  },
  {
   "cell_type": "code",
   "execution_count": 4,
   "id": "ec8eae4c-30f6-46bf-9486-fecf1f5dc900",
   "metadata": {},
   "outputs": [],
   "source": [
    "df = pd.read_csv('time_series_chunk1_NER.csv')"
   ]
  },
  {
   "cell_type": "code",
   "execution_count": 5,
   "id": "d3f6159a-7ef3-4760-9ba1-200ae32e7ea5",
   "metadata": {},
   "outputs": [
    {
     "data": {
      "text/html": [
       "<div>\n",
       "<style scoped>\n",
       "    .dataframe tbody tr th:only-of-type {\n",
       "        vertical-align: middle;\n",
       "    }\n",
       "\n",
       "    .dataframe tbody tr th {\n",
       "        vertical-align: top;\n",
       "    }\n",
       "\n",
       "    .dataframe thead th {\n",
       "        text-align: right;\n",
       "    }\n",
       "</style>\n",
       "<table border=\"1\" class=\"dataframe\">\n",
       "  <thead>\n",
       "    <tr style=\"text-align: right;\">\n",
       "      <th></th>\n",
       "      <th>Unnamed: 0.1</th>\n",
       "      <th>Unnamed: 0</th>\n",
       "      <th>position_section</th>\n",
       "      <th>position_subsection</th>\n",
       "      <th>hl1</th>\n",
       "      <th>hl2</th>\n",
       "      <th>author</th>\n",
       "      <th>lede</th>\n",
       "      <th>body</th>\n",
       "      <th>pub_date</th>\n",
       "      <th>indexing_terms</th>\n",
       "      <th>year</th>\n",
       "      <th>actual_body_word_count</th>\n",
       "      <th>body_cleaned</th>\n",
       "      <th>llama_pred</th>\n",
       "      <th>span_NER_pred</th>\n",
       "    </tr>\n",
       "  </thead>\n",
       "  <tbody>\n",
       "    <tr>\n",
       "      <th>0</th>\n",
       "      <td>0</td>\n",
       "      <td>0</td>\n",
       "      <td>BUSINESS</td>\n",
       "      <td>unknown</td>\n",
       "      <td>cerezyme alternative gets fda approval</td>\n",
       "      <td>unknown</td>\n",
       "      <td>Associated Press</td>\n",
       "      <td>washington - the food and drug administration ...</td>\n",
       "      <td>washington - the food and drug administration ...</td>\n",
       "      <td>2010-02-27</td>\n",
       "      <td>{'subject': [{'score': '91', 'classCode': 'ST0...</td>\n",
       "      <td>2010</td>\n",
       "      <td>91</td>\n",
       "      <td>washington food drug administration approved n...</td>\n",
       "      <td>Based on the information provided in the art...</td>\n",
       "      <td>[(1, 'CARDINAL'), (Boston, 'GPE'), (Massachuse...</td>\n",
       "    </tr>\n",
       "    <tr>\n",
       "      <th>1</th>\n",
       "      <td>1</td>\n",
       "      <td>1</td>\n",
       "      <td>G</td>\n",
       "      <td>Living Arts</td>\n",
       "      <td>unknown</td>\n",
       "      <td>unknown</td>\n",
       "      <td>AMI ALBERNAZ</td>\n",
       "      <td>earth-friendly sale porter square eco-boutique...</td>\n",
       "      <td>shoes with moxie moxie is taking 20 percent of...</td>\n",
       "      <td>2010-04-22</td>\n",
       "      <td>{'subject': [{'score': '90', 'classCode': 'ST0...</td>\n",
       "      <td>2010</td>\n",
       "      <td>381</td>\n",
       "      <td>shoes moxie moxie taking 20 percent sexy ' hee...</td>\n",
       "      <td>Based on the information provided in the art...</td>\n",
       "      <td>[(1, 'CARDINAL'), (Boston, 'GPE'), (2, 'CARDIN...</td>\n",
       "    </tr>\n",
       "  </tbody>\n",
       "</table>\n",
       "</div>"
      ],
      "text/plain": [
       "   Unnamed: 0.1  Unnamed: 0 position_section position_subsection  \\\n",
       "0             0           0         BUSINESS             unknown   \n",
       "1             1           1                G         Living Arts   \n",
       "\n",
       "                                      hl1      hl2            author  \\\n",
       "0  cerezyme alternative gets fda approval  unknown  Associated Press   \n",
       "1                                 unknown  unknown      AMI ALBERNAZ   \n",
       "\n",
       "                                                lede  \\\n",
       "0  washington - the food and drug administration ...   \n",
       "1  earth-friendly sale porter square eco-boutique...   \n",
       "\n",
       "                                                body    pub_date  \\\n",
       "0  washington - the food and drug administration ...  2010-02-27   \n",
       "1  shoes with moxie moxie is taking 20 percent of...  2010-04-22   \n",
       "\n",
       "                                      indexing_terms  year  \\\n",
       "0  {'subject': [{'score': '91', 'classCode': 'ST0...  2010   \n",
       "1  {'subject': [{'score': '90', 'classCode': 'ST0...  2010   \n",
       "\n",
       "   actual_body_word_count                                       body_cleaned  \\\n",
       "0                      91  washington food drug administration approved n...   \n",
       "1                     381  shoes moxie moxie taking 20 percent sexy ' hee...   \n",
       "\n",
       "                                          llama_pred  \\\n",
       "0    Based on the information provided in the art...   \n",
       "1    Based on the information provided in the art...   \n",
       "\n",
       "                                       span_NER_pred  \n",
       "0  [(1, 'CARDINAL'), (Boston, 'GPE'), (Massachuse...  \n",
       "1  [(1, 'CARDINAL'), (Boston, 'GPE'), (2, 'CARDIN...  "
      ]
     },
     "execution_count": 5,
     "metadata": {},
     "output_type": "execute_result"
    }
   ],
   "source": [
    "df.head(2)"
   ]
  },
  {
   "cell_type": "markdown",
   "id": "8a49e0d1-7043-4d18-b0cd-929a3f2391b6",
   "metadata": {},
   "source": [
    "# MapBox API -> Coordinates\n",
    "\n",
    "- Based on the locations, find coor"
   ]
  },
  {
   "cell_type": "code",
   "execution_count": 2,
   "id": "41812e8b-ac11-448b-8ad9-53594d118793",
   "metadata": {},
   "outputs": [
    {
     "name": "stdout",
     "output_type": "stream",
     "text": [
      "[-71.090769, 42.343875]\n"
     ]
    }
   ],
   "source": [
    "from mapbox import Geocoder\n",
    "\n",
    "# Replace 'YOUR_MAPBOX_ACCESS_TOKEN' with your actual Mapbox access token\n",
    "mapbox_access_token = 'pk.eyJ1IjoiYWJkdWxyYWZheTAzIiwiYSI6ImNsdHB5YzRmczAwZTAyaXFiMnd6MXBjbXQifQ.fy4hqXUdVEsmPuC5XLyUSA'\n",
    "\n",
    "geocoder = Geocoder(access_token=mapbox_access_token)\n",
    "\n",
    "response = geocoder.forward('fenway')\n",
    "\n",
    "# Print only the coordinates of the first matching feature\n",
    "if response.status_code == 200:\n",
    "    coordinates = response.json()['features'][0]['geometry']['coordinates']\n",
    "    print(coordinates)  # This will print [longitude, latitude]"
   ]
  },
  {
   "cell_type": "markdown",
   "id": "c1af9606-08cf-412f-96d0-187b536c1729",
   "metadata": {},
   "source": [
    "# Coordinates -> CENSUS DATA LOCATION"
   ]
  },
  {
   "cell_type": "markdown",
   "id": "c2129e9a-79e9-404c-85fc-982c09e419eb",
   "metadata": {},
   "source": [
    "### US CENSUS GEOCODE API KEY : '030b114a5c097269422edb33297fc89a7c00dd7d'"
   ]
  },
  {
   "cell_type": "code",
   "execution_count": 41,
   "id": "98f39434-260c-423a-9fff-6e13686217fc",
   "metadata": {},
   "outputs": [
    {
     "name": "stdout",
     "output_type": "stream",
     "text": [
      "2018 State Legislative Districts - Upper: [{'POP100': 185474, 'GEOID': '25028', 'CENTLAT': '+42.3706547', 'AREAWATER': 1668060, 'STATE': '25', 'BASENAME': 'Second Suffolk & Middlesex', 'OID': '212704693077277', 'LSADC': '07', 'SLDU': '028', 'FUNCSTAT': 'N', 'INTPTLAT': '+42.3713037', 'NAME': 'Second Suffolk & Middlesex District', 'OBJECTID': 1421, 'CENTLON': '-071.1603667', 'LSY': '2018', 'AREALAND': 33955670, 'INTPTLON': '-071.1600825', 'HU100': 81685, 'MTFCC': 'G5210', 'LDTYP': 'O'}]\n",
      "States: [{'STATENS': '00606926', 'POP100': 7029917, 'GEOID': '25', 'CENTLAT': '+42.1618490', 'AREAWATER': 7130705554, 'STATE': '25', 'BASENAME': 'Massachusetts', 'STUSAB': 'MA', 'OID': '27470203627104', 'LSADC': '00', 'FUNCSTAT': 'A', 'INTPTLAT': '+42.1565196', 'DIVISION': '1', 'NAME': 'Massachusetts', 'REGION': '1', 'OBJECTID': 52, 'CENTLON': '-071.4975238', 'AREALAND': 20204345052, 'INTPTLON': '-071.4895915', 'HU100': 2998537, 'MTFCC': 'G4000', 'UR': 'M'}]\n",
      "Combined Statistical Areas: [{'POP100': 8466186, 'GEOID': '148', 'CENTLAT': '+42.3593610', 'AREAWATER': 7170218653, 'BASENAME': 'Boston-Worcester-Providence, MA-RI-NH-CT', 'OID': '2617013782255090', 'LSADC': 'M0', 'FUNCSTAT': 'S', 'INTPTLAT': '+42.3619187', 'NAME': 'Boston-Worcester-Providence, MA-RI-NH-CT CSA', 'OBJECTID': 121, 'CSA': '148', 'CENTLON': '-071.2719976', 'INTPTLON': '-071.2724983', 'AREALAND': 25128526633, 'HU100': 3604952, 'MTFCC': 'G3100'}]\n",
      "2020 Urban Areas - Corrected: [{'GEOID': '09271', 'CENTLAT': '+42.3794884', 'AREAWATER': 185694545, 'BASENAME': 'Boston, MA--NH', 'OID': '27021206517502', 'UA': '09271', 'LSADC': '67', 'FUNCSTAT': 'S', 'INTPTLAT': '+42.3789986', 'NAME': 'Boston, MA--NH Urban Area', 'OBJECTID': 1320, 'CENTLON': '-071.1422220', 'AREALAND': 4288720129, 'INTPTLON': '-071.1423438', 'MTFCC': 'G3500'}]\n",
      "County Subdivisions: [{'COUSUB': '07000', 'POP100': 675647, 'GEOID': '2502507000', 'CENTLAT': '+42.3322592', 'AREAWATER': 106897982, 'STATE': '25', 'BASENAME': 'Boston', 'OID': '27670210186993', 'LSADC': '25', 'FUNCSTAT': 'F', 'INTPTLAT': '+42.3385513', 'NAME': 'Boston city', 'OBJECTID': 18277, 'CENTLON': '-071.0164767', 'COUSUBCC': 'C5', 'AREALAND': 125203188, 'INTPTLON': '-071.0182530', 'HU100': 301702, 'MTFCC': 'G4040', 'COUSUBNS': '00619463', 'UR': 'M', 'COUNTY': '025'}]\n",
      "Incorporated Places: [{'DISP_CLR': 1, 'NECTAPCI': 'Y', 'POP100': 675647, 'GEOID': '2507000', 'CENTLAT': '+42.3322592', 'AREAWATER': 106897982, 'BASENAME': 'Boston', 'STATE': '25', 'OID': '27870210203331', 'LSADC': '25', 'INTPTLAT': '+42.3385513', 'PLACE': '07000', 'FUNCSTAT': 'A', 'NAME': 'Boston city', 'OBJECTID': 19682, 'PLACECC': 'C5', 'CENTLON': '-071.0164767', 'CBSAPCI': 'Y', 'AREALAND': 125203188, 'HU100': 301702, 'INTPTLON': '-071.0182530', 'PLACENS': '00619463', 'MTFCC': 'G4110', 'UR': 'M'}]\n",
      "Counties: [{'POP100': 797936, 'GEOID': '25025', 'CENTLAT': '+42.3487288', 'AREAWATER': 160499085, 'STATE': '25', 'BASENAME': 'Suffolk', 'OID': '27570210166934', 'LSADC': '06', 'FUNCSTAT': 'N', 'INTPTLAT': '+42.3385513', 'NAME': 'Suffolk County', 'OBJECTID': 146, 'CENTLON': '-070.9857081', 'COUNTYCC': 'H4', 'COUNTYNS': '00606939', 'AREALAND': 150877936, 'INTPTLON': '-071.0182530', 'HU100': 349616, 'MTFCC': 'G4020', 'UR': 'M', 'COUNTY': '025'}]\n",
      "2018 State Legislative Districts - Lower: [{'POP100': 45282, 'GEOID': '25192', 'CENTLAT': '+42.3402273', 'SLDL': '192', 'AREAWATER': 224947, 'STATE': '25', 'BASENAME': '9th Suffolk', 'OID': '213704693077415', 'LSADC': '07', 'FUNCSTAT': 'N', 'INTPTLAT': '+42.3405439', 'NAME': '9th Suffolk District', 'OBJECTID': 4216, 'CENTLON': '-071.0795804', 'LSY': '2018', 'AREALAND': 4145826, 'INTPTLON': '-071.0798522', 'HU100': 22561, 'MTFCC': 'G5220', 'LDTYP': 'O'}]\n",
      "116th Congressional Districts: [{'POP100': 799816, 'GEOID': '2507', 'CENTLAT': '+42.3215104', 'CDSESSN': '116', 'AREAWATER': 97420163, 'STATE': '25', 'BASENAME': '7', 'OID': '211704690191906', 'LSADC': 'C2', 'FUNCSTAT': 'N', 'INTPTLAT': '+42.3166876', 'NAME': 'Congressional District 7', 'OBJECTID': 62, 'CENTLON': '-071.0214130', 'AREALAND': 162434864, 'INTPTLON': '-071.0094420', 'HU100': 334753, 'CD116': '07', 'MTFCC': 'G5200'}]\n",
      "Census Tracts: [{'POP100': 6853, 'GEOID': '25025010405', 'CENTLAT': '+42.3398656', 'AREAWATER': 0, 'STATE': '25', 'BASENAME': '104.05', 'OID': '207703716537787', 'LSADC': 'CT', 'FUNCSTAT': 'S', 'INTPTLAT': '+42.3398656', 'NAME': 'Census Tract 104.05', 'OBJECTID': 15749, 'TRACT': '010405', 'CENTLON': '-071.0895958', 'AREALAND': 364894, 'INTPTLON': '-071.0895958', 'HU100': 1005, 'MTFCC': 'G5020', 'UR': 'U', 'COUNTY': '025'}]\n",
      "Census Blocks: [{'GEOID': '250250104052003', 'STATE': '25', 'BASENAME': '2003', 'LSADC': 'BK', 'INTPTLAT': '+42.3433751', 'OBJECTID': 4519321, 'BLKGRP': '2', 'AREALAND': 12167, 'HU100': 176, 'VINTAGE': '70', 'LWBLKTYP': 'L', 'UR': 'U', 'COUNTY': '025', 'SUFFIX': '', 'TABBLKSUFX2': '', 'POP100': 286, 'CENTLAT': '+42.3433751', 'BLOCK': '2003', 'AREAWATER': 0, 'OID': '210701007746415', 'FUNCSTAT': 'S', 'NAME': 'Block 2003', 'TRACT': '010405', 'CENTLON': '-071.0907663', 'ACT': '', 'INTPTLON': '-071.0907663', 'MTFCC': 'G5040'}]\n"
     ]
    }
   ],
   "source": [
    "import requests\n",
    "\n",
    "# Example coordinates (longitude, latitude)\n",
    "coordinates = \"-71.090769, 42.343875\"  # Longitude and latitude for 1600 Pennsylvania Ave NW, Washington DC\n",
    "\n",
    "# Prepare the API URL with both benchmark and vintage parameters\n",
    "url = f\"https://geocoding.geo.census.gov/geocoder/geographies/coordinates?x={coordinates.split(',')[0]}&y={coordinates.split(',')[1]}&benchmark=Public_AR_Current&vintage=Census2020_Current&format=json\"\n",
    "\n",
    "# Make the API request\n",
    "response = requests.get(url)\n",
    "\n",
    "# Check if the request was successful\n",
    "if response.status_code == 200:\n",
    "    # Parse the response to extract location information\n",
    "    results = response.json()\n",
    "    if results.get('result', {}).get('geographies', {}):\n",
    "        # Extracting and printing geographic information as an example\n",
    "        geographies = results['result']['geographies']\n",
    "        for geography in geographies:\n",
    "            \n",
    "            print(f\"{geography}: {geographies[geography]}\")\n",
    "    else:\n",
    "        print(\"No geographic information found for the provided coordinates.\")\n",
    "else:\n",
    "    print(f\"Failed to retrieve data from the Census Geocoding Services API. Status code: {response.status_code}\")\n",
    "    try:\n",
    "        print(response.json())  # Attempt to print any error messages from the API\n",
    "    except ValueError:\n",
    "        print(\"No JSON response received.\")\n"
   ]
  },
  {
   "cell_type": "markdown",
   "id": "183fb96d-fe43-4be3-8859-24283b28fedd",
   "metadata": {},
   "source": [
    "# TRACT id only output"
   ]
  },
  {
   "cell_type": "code",
   "execution_count": 42,
   "id": "bc7dc7be-d079-49a9-9daa-6b00e78e2a7d",
   "metadata": {},
   "outputs": [
    {
     "name": "stdout",
     "output_type": "stream",
     "text": [
      "010405\n"
     ]
    }
   ],
   "source": [
    "import requests\n",
    "\n",
    "# Example coordinates (longitude, latitude)\n",
    "coordinates = \"-71.090769,42.343875\"  # Adjusted coordinates\n",
    "\n",
    "# Prepare the API URL with both benchmark and vintage parameters\n",
    "url = f\"https://geocoding.geo.census.gov/geocoder/geographies/coordinates?x={coordinates.split(',')[0]}&y={coordinates.split(',')[1]}&benchmark=Public_AR_Current&vintage=Census2020_Current&format=json\"\n",
    "\n",
    "# Make the API request\n",
    "response = requests.get(url)\n",
    "\n",
    "# Check if the request was successful\n",
    "if response.status_code == 200:\n",
    "    # Parse the response to extract location information\n",
    "    results = response.json()\n",
    "    \n",
    "    # Access the 'geographies' key directly within the 'result' dictionary, then access 'Census Tracts'\n",
    "    census_tracts = results['result']['geographies'].get('Census Tracts', [])\n",
    "    \n",
    "    # Check if there are any census tracts in the response\n",
    "    if census_tracts:\n",
    "        # Loop through each census tract in the list\n",
    "        for tract in census_tracts:\n",
    "            # Extract and print the desired information for each tract\n",
    "            # Here, we print the GEOID and the BASENAME (tract number)\n",
    "            tract = tract.get('TRACT', 'No TRACT found')\n",
    "            print(tract)\n",
    "    else:\n",
    "        print(\"No Census Tracts found in the response.\")\n",
    "else:\n",
    "    print(f\"Failed to retrieve data from the Census Geocoding Services API. Status code: {response.status_code}\")\n",
    "    try:\n",
    "        # Attempt to print any error messages from the API\n",
    "        print(response.json())\n",
    "    except ValueError:\n",
    "        print(\"No JSON response received.\")\n"
   ]
  },
  {
   "cell_type": "code",
   "execution_count": null,
   "id": "a2fd4f70-ac2f-4533-abf8-a5bb07517649",
   "metadata": {},
   "outputs": [],
   "source": []
  }
 ],
 "metadata": {
  "kernelspec": {
   "display_name": "Python 3 (ipykernel)",
   "language": "python",
   "name": "python3"
  },
  "language_info": {
   "codemirror_mode": {
    "name": "ipython",
    "version": 3
   },
   "file_extension": ".py",
   "mimetype": "text/x-python",
   "name": "python",
   "nbconvert_exporter": "python",
   "pygments_lexer": "ipython3",
   "version": "3.9.6"
  }
 },
 "nbformat": 4,
 "nbformat_minor": 5
}
