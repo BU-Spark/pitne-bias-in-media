{
 "cells": [
  {
   "cell_type": "code",
   "execution_count": 1,
   "metadata": {},
   "outputs": [
    {
     "data": {
      "text/plain": [
       "'\\n'"
      ]
     },
     "execution_count": 1,
     "metadata": {},
     "output_type": "execute_result"
    }
   ],
   "source": [
    "'''\n",
    "This script processes, cleans, and merges multiple datasets from the Boston Globe and \n",
    "census data for the years 2010 to 2019. \n",
    "'''"
   ]
  },
  {
   "cell_type": "code",
   "execution_count": 2,
   "metadata": {},
   "outputs": [],
   "source": [
    "# Importing necessary libaries \n",
    "import pandas as pd"
   ]
  },
  {
   "cell_type": "code",
   "execution_count": 3,
   "metadata": {},
   "outputs": [],
   "source": [
    "# Loading Boston Globe dataset \n",
    "df_2010 = pd.read_csv('/Users/rachelgupta/Desktop/NAACP - PIT NE/pitne-bias-in-media/summer24/notebooks/Rachel/2010-19 datasets/2010_final.csv')"
   ]
  },
  {
   "cell_type": "code",
   "execution_count": 4,
   "metadata": {},
   "outputs": [],
   "source": [
    "df_2011 = pd.read_csv('/Users/rachelgupta/Desktop/NAACP - PIT NE/pitne-bias-in-media/summer24/notebooks/Rachel/2010-19 datasets/2011_final.csv')"
   ]
  },
  {
   "cell_type": "code",
   "execution_count": 5,
   "metadata": {},
   "outputs": [],
   "source": [
    "df_2012 = pd.read_csv('/Users/rachelgupta/Desktop/NAACP - PIT NE/pitne-bias-in-media/summer24/notebooks/Rachel/2010-19 datasets/2012_final.csv')"
   ]
  },
  {
   "cell_type": "code",
   "execution_count": 6,
   "metadata": {},
   "outputs": [],
   "source": [
    "df_2013 = pd.read_csv('/Users/rachelgupta/Desktop/NAACP - PIT NE/pitne-bias-in-media/summer24/notebooks/Rachel/2010-19 datasets/2013_final.csv')"
   ]
  },
  {
   "cell_type": "code",
   "execution_count": 7,
   "metadata": {},
   "outputs": [],
   "source": [
    "df_2014 = pd.read_csv('/Users/rachelgupta/Desktop/NAACP - PIT NE/pitne-bias-in-media/summer24/notebooks/Rachel/2010-19 datasets/2014_final.csv')"
   ]
  },
  {
   "cell_type": "code",
   "execution_count": 8,
   "metadata": {},
   "outputs": [],
   "source": [
    "df_2015 = pd.read_csv('/Users/rachelgupta/Desktop/NAACP - PIT NE/pitne-bias-in-media/summer24/notebooks/Rachel/2010-19 datasets/2015_final.csv')"
   ]
  },
  {
   "cell_type": "code",
   "execution_count": 9,
   "metadata": {},
   "outputs": [],
   "source": [
    "df_2016 = pd.read_csv('/Users/rachelgupta/Desktop/NAACP - PIT NE/pitne-bias-in-media/summer24/notebooks/Rachel/2010-19 datasets/2016_final.csv')"
   ]
  },
  {
   "cell_type": "code",
   "execution_count": 10,
   "metadata": {},
   "outputs": [],
   "source": [
    "df_2017 = pd.read_csv('/Users/rachelgupta/Desktop/NAACP - PIT NE/pitne-bias-in-media/summer24/notebooks/Rachel/2010-19 datasets/2017_final.csv')"
   ]
  },
  {
   "cell_type": "code",
   "execution_count": 11,
   "metadata": {},
   "outputs": [],
   "source": [
    "df_2018 = pd.read_csv('/Users/rachelgupta/Desktop/NAACP - PIT NE/pitne-bias-in-media/summer24/notebooks/Rachel/2010-19 datasets/2018_final.csv')"
   ]
  },
  {
   "cell_type": "code",
   "execution_count": 12,
   "metadata": {},
   "outputs": [],
   "source": [
    "df_2019 = pd.read_csv('/Users/rachelgupta/Desktop/NAACP - PIT NE/pitne-bias-in-media/summer24/notebooks/Rachel/2010-19 datasets/2019_final.csv')"
   ]
  },
  {
   "cell_type": "code",
   "execution_count": 13,
   "metadata": {},
   "outputs": [],
   "source": [
    "# To display all columns \n",
    "pd.set_option('display.max_rows', None)  \n",
    "pd.set_option('display.max_columns', None)  "
   ]
  },
  {
   "cell_type": "code",
   "execution_count": 14,
   "metadata": {},
   "outputs": [],
   "source": [
    "# Combining dataframes for all years \n",
    "combined_df = pd.concat([df_2010, df_2011, df_2012, df_2013, df_2014, df_2015, df_2016, df_2017, df_2018, df_2019], ignore_index=True)"
   ]
  },
  {
   "cell_type": "code",
   "execution_count": 15,
   "metadata": {},
   "outputs": [],
   "source": [
    "# Droping coloumns not needed for ananlysis \n",
    "combined_df = combined_df.drop(columns=['llama_prediction', 'Explicit_Pass_1', 'NER_Pass_1','NER_Pass_1_Sorted', 'NER_Pass_1_Coordinates',\n",
    "                                        'NER_prediction', 'tract','Calculated_Tract', 'actual_body_word_count', 'indexing_terms','pub_date', \n",
    "                                        'Unnamed: 0', 'NER_Sorted','lede'])"
   ]
  },
  {
   "cell_type": "code",
   "execution_count": 16,
   "metadata": {},
   "outputs": [
    {
     "data": {
      "text/plain": [
       "Index(['hl1_x', 'body', 'NER_Sorted_Coordinates', 'position_section',\n",
       "       'position_subsection', 'hl1_y', 'hl2', 'author', 'year', 'body_cleaned',\n",
       "       'longitude', 'latitude', 'Tracts', 'T_Total', 'T_White alone',\n",
       "       'T_Black or African American alone',\n",
       "       'T_American Indian and Alaska Native alone', 'T_Asian alone',\n",
       "       'T_Native Hawaiian and Other Pacific Islander alone',\n",
       "       'T_Some Other Race alone', 'T_Population of two or more races',\n",
       "       'T_Total Hispanic or Latino origin', 'T_Not Hispanic or Latino',\n",
       "       'T_Hispanic or Latino', 'Article_Count', 'T_majority_race',\n",
       "       'Neighborhood', 'White alone', 'Black or African American alone',\n",
       "       'Hispanic or Latino', 'Asian, Native Hawaiian and Pacific Islander',\n",
       "       'Other Races or Multiple Races', 'majority_race', 'Tract'],\n",
       "      dtype='object')"
      ]
     },
     "execution_count": 16,
     "metadata": {},
     "output_type": "execute_result"
    }
   ],
   "source": [
    "combined_df.columns"
   ]
  },
  {
   "cell_type": "code",
   "execution_count": 17,
   "metadata": {},
   "outputs": [
    {
     "data": {
      "text/plain": [
       "array(['BUSINESS', 'G', 'SPORTS', 'NEWS', 'REGIONAL', 'LIVING ARTS',\n",
       "       'MAGAZINE', 'EDITORIAL OPINION', 'SUNDAY', 'DIVERSITY', 'TAB2',\n",
       "       'unknown', 'REALESTATE', nan, 'TABM'], dtype=object)"
      ]
     },
     "execution_count": 17,
     "metadata": {},
     "output_type": "execute_result"
    }
   ],
   "source": [
    "combined_df['position_section'].unique()"
   ]
  },
  {
   "cell_type": "code",
   "execution_count": 18,
   "metadata": {},
   "outputs": [],
   "source": [
    "combined_df = combined_df.drop(columns=['hl1_y','NER_Sorted_Coordinates', 'hl2', 'Tract'])"
   ]
  },
  {
   "cell_type": "code",
   "execution_count": 24,
   "metadata": {},
   "outputs": [],
   "source": [
    "# Converting dataframe to csv file for further analysis \n",
    "combined_df.to_csv('final_combined3.csv', index=False)"
   ]
  },
  {
   "cell_type": "code",
   "execution_count": 19,
   "metadata": {},
   "outputs": [],
   "source": [
    "# Loading datasets for mean sentiment scores for all years \n",
    "\n",
    "df_2010_ = pd.read_csv('/Users/rachelgupta/Desktop/NAACP - PIT NE/pitne-bias-in-media/summer24/notebooks/Rachel/mean sentiment score/mean_sentiment_2010.csv')\n",
    "df_2011_ = pd.read_csv('/Users/rachelgupta/Desktop/NAACP - PIT NE/pitne-bias-in-media/summer24/notebooks/Rachel/mean sentiment score/mean_sentiment_2011.csv')\n",
    "df_2012_ = pd.read_csv('/Users/rachelgupta/Desktop/NAACP - PIT NE/pitne-bias-in-media/summer24/notebooks/Rachel/mean sentiment score/mean_sentiment_2012.csv')\n",
    "df_2013_ = pd.read_csv('/Users/rachelgupta/Desktop/NAACP - PIT NE/pitne-bias-in-media/summer24/notebooks/Rachel/mean sentiment score/mean_sentiment_2013.csv')\n",
    "df_2014_ = pd.read_csv('/Users/rachelgupta/Desktop/NAACP - PIT NE/pitne-bias-in-media/summer24/notebooks/Rachel/mean sentiment score/mean_sentiment_2014.csv')\n",
    "df_2015_ = pd.read_csv('/Users/rachelgupta/Desktop/NAACP - PIT NE/pitne-bias-in-media/summer24/notebooks/Rachel/mean sentiment score/mean_sentiment_2015.csv')\n",
    "df_2016_ = pd.read_csv('/Users/rachelgupta/Desktop/NAACP - PIT NE/pitne-bias-in-media/summer24/notebooks/Rachel/mean sentiment score/mean_sentiment_2016.csv')\n",
    "df_2017_ = pd.read_csv('/Users/rachelgupta/Desktop/NAACP - PIT NE/pitne-bias-in-media/summer24/notebooks/Rachel/mean sentiment score/mean_sentiment_2017.csv')\n",
    "df_2018_ = pd.read_csv('/Users/rachelgupta/Desktop/NAACP - PIT NE/pitne-bias-in-media/summer24/notebooks/Rachel/mean sentiment score/mean_sentiment_2018.csv')\n",
    "df_2019_ = pd.read_csv('/Users/rachelgupta/Desktop/NAACP - PIT NE/pitne-bias-in-media/summer24/notebooks/Rachel/mean sentiment score/mean_sentiment_2019.csv')\n"
   ]
  },
  {
   "cell_type": "code",
   "execution_count": 20,
   "metadata": {},
   "outputs": [],
   "source": [
    "# Merging all dataframes with mean sentiment analysis for all years\n",
    "sentiment_combined_df = pd.concat([df_2010_, df_2011_, df_2012_, df_2013_, df_2014_, df_2015_, df_2016_, df_2017_, df_2018_, df_2019_], ignore_index=True)"
   ]
  },
  {
   "cell_type": "code",
   "execution_count": 21,
   "metadata": {},
   "outputs": [],
   "source": [
    "sentiment_combined_df = sentiment_combined_df.drop(columns= ['Tract'])"
   ]
  },
  {
   "cell_type": "code",
   "execution_count": 22,
   "metadata": {},
   "outputs": [
    {
     "data": {
      "text/html": [
       "<div>\n",
       "<style scoped>\n",
       "    .dataframe tbody tr th:only-of-type {\n",
       "        vertical-align: middle;\n",
       "    }\n",
       "\n",
       "    .dataframe tbody tr th {\n",
       "        vertical-align: top;\n",
       "    }\n",
       "\n",
       "    .dataframe thead th {\n",
       "        text-align: right;\n",
       "    }\n",
       "</style>\n",
       "<table border=\"1\" class=\"dataframe\">\n",
       "  <thead>\n",
       "    <tr style=\"text-align: right;\">\n",
       "      <th></th>\n",
       "      <th>year</th>\n",
       "      <th>position_section</th>\n",
       "      <th>position_subsection</th>\n",
       "      <th>longitude</th>\n",
       "      <th>latitude</th>\n",
       "      <th>Tracts</th>\n",
       "      <th>Article_Count</th>\n",
       "      <th>Neighborhood</th>\n",
       "      <th>White alone</th>\n",
       "      <th>Black or African American alone</th>\n",
       "      <th>Hispanic or Latino</th>\n",
       "      <th>Asian, Native Hawaiian and Pacific Islander</th>\n",
       "      <th>Other Races or Multiple Races</th>\n",
       "      <th>majority_race</th>\n",
       "      <th>Sentiment</th>\n",
       "      <th>Mean_Sentiment_Section</th>\n",
       "      <th>Mean_Sentiment_Neighborhood</th>\n",
       "    </tr>\n",
       "  </thead>\n",
       "  <tbody>\n",
       "    <tr>\n",
       "      <th>0</th>\n",
       "      <td>2010.0</td>\n",
       "      <td>BUSINESS</td>\n",
       "      <td>unknown</td>\n",
       "      <td>-71.118563</td>\n",
       "      <td>42.362780</td>\n",
       "      <td>803.0</td>\n",
       "      <td>35.0</td>\n",
       "      <td>Allston</td>\n",
       "      <td>12536.0</td>\n",
       "      <td>1326.0</td>\n",
       "      <td>3259.0</td>\n",
       "      <td>6271.0</td>\n",
       "      <td>1512.0</td>\n",
       "      <td>White alone</td>\n",
       "      <td>0.019024</td>\n",
       "      <td>0.081353</td>\n",
       "      <td>0.083669</td>\n",
       "    </tr>\n",
       "    <tr>\n",
       "      <th>1</th>\n",
       "      <td>2010.0</td>\n",
       "      <td>G</td>\n",
       "      <td>Living Arts</td>\n",
       "      <td>-71.118116</td>\n",
       "      <td>42.360262</td>\n",
       "      <td>803.0</td>\n",
       "      <td>35.0</td>\n",
       "      <td>Allston</td>\n",
       "      <td>12536.0</td>\n",
       "      <td>1326.0</td>\n",
       "      <td>3259.0</td>\n",
       "      <td>6271.0</td>\n",
       "      <td>1512.0</td>\n",
       "      <td>White alone</td>\n",
       "      <td>0.169098</td>\n",
       "      <td>0.164853</td>\n",
       "      <td>0.083669</td>\n",
       "    </tr>\n",
       "    <tr>\n",
       "      <th>2</th>\n",
       "      <td>2010.0</td>\n",
       "      <td>SPORTS</td>\n",
       "      <td>unknown</td>\n",
       "      <td>-71.117705</td>\n",
       "      <td>42.352197</td>\n",
       "      <td>803.0</td>\n",
       "      <td>35.0</td>\n",
       "      <td>Allston</td>\n",
       "      <td>12536.0</td>\n",
       "      <td>1326.0</td>\n",
       "      <td>3259.0</td>\n",
       "      <td>6271.0</td>\n",
       "      <td>1512.0</td>\n",
       "      <td>White alone</td>\n",
       "      <td>-0.016051</td>\n",
       "      <td>0.106107</td>\n",
       "      <td>0.083669</td>\n",
       "    </tr>\n",
       "    <tr>\n",
       "      <th>3</th>\n",
       "      <td>2010.0</td>\n",
       "      <td>NEWS</td>\n",
       "      <td>Metro</td>\n",
       "      <td>-71.119302</td>\n",
       "      <td>42.356444</td>\n",
       "      <td>803.0</td>\n",
       "      <td>35.0</td>\n",
       "      <td>Allston</td>\n",
       "      <td>12536.0</td>\n",
       "      <td>1326.0</td>\n",
       "      <td>3259.0</td>\n",
       "      <td>6271.0</td>\n",
       "      <td>1512.0</td>\n",
       "      <td>White alone</td>\n",
       "      <td>-0.084649</td>\n",
       "      <td>0.076112</td>\n",
       "      <td>0.083669</td>\n",
       "    </tr>\n",
       "    <tr>\n",
       "      <th>4</th>\n",
       "      <td>2010.0</td>\n",
       "      <td>BUSINESS</td>\n",
       "      <td>unknown</td>\n",
       "      <td>-71.118563</td>\n",
       "      <td>42.362780</td>\n",
       "      <td>803.0</td>\n",
       "      <td>35.0</td>\n",
       "      <td>Allston</td>\n",
       "      <td>12536.0</td>\n",
       "      <td>1326.0</td>\n",
       "      <td>3259.0</td>\n",
       "      <td>6271.0</td>\n",
       "      <td>1512.0</td>\n",
       "      <td>White alone</td>\n",
       "      <td>-0.024444</td>\n",
       "      <td>0.081353</td>\n",
       "      <td>0.083669</td>\n",
       "    </tr>\n",
       "  </tbody>\n",
       "</table>\n",
       "</div>"
      ],
      "text/plain": [
       "     year position_section position_subsection  longitude   latitude  Tracts  \\\n",
       "0  2010.0         BUSINESS             unknown -71.118563  42.362780   803.0   \n",
       "1  2010.0                G         Living Arts -71.118116  42.360262   803.0   \n",
       "2  2010.0           SPORTS             unknown -71.117705  42.352197   803.0   \n",
       "3  2010.0             NEWS               Metro -71.119302  42.356444   803.0   \n",
       "4  2010.0         BUSINESS             unknown -71.118563  42.362780   803.0   \n",
       "\n",
       "   Article_Count Neighborhood  White alone  Black or African American alone  \\\n",
       "0           35.0      Allston      12536.0                           1326.0   \n",
       "1           35.0      Allston      12536.0                           1326.0   \n",
       "2           35.0      Allston      12536.0                           1326.0   \n",
       "3           35.0      Allston      12536.0                           1326.0   \n",
       "4           35.0      Allston      12536.0                           1326.0   \n",
       "\n",
       "   Hispanic or Latino  Asian, Native Hawaiian and Pacific Islander  \\\n",
       "0              3259.0                                       6271.0   \n",
       "1              3259.0                                       6271.0   \n",
       "2              3259.0                                       6271.0   \n",
       "3              3259.0                                       6271.0   \n",
       "4              3259.0                                       6271.0   \n",
       "\n",
       "   Other Races or Multiple Races majority_race  Sentiment  \\\n",
       "0                         1512.0   White alone   0.019024   \n",
       "1                         1512.0   White alone   0.169098   \n",
       "2                         1512.0   White alone  -0.016051   \n",
       "3                         1512.0   White alone  -0.084649   \n",
       "4                         1512.0   White alone  -0.024444   \n",
       "\n",
       "   Mean_Sentiment_Section  Mean_Sentiment_Neighborhood  \n",
       "0                0.081353                     0.083669  \n",
       "1                0.164853                     0.083669  \n",
       "2                0.106107                     0.083669  \n",
       "3                0.076112                     0.083669  \n",
       "4                0.081353                     0.083669  "
      ]
     },
     "execution_count": 22,
     "metadata": {},
     "output_type": "execute_result"
    }
   ],
   "source": [
    "sentiment_combined_df.head()"
   ]
  },
  {
   "cell_type": "code",
   "execution_count": 129,
   "metadata": {},
   "outputs": [],
   "source": [
    "# Converting dataframe to csv file \n",
    "\n",
    "sentiment_combined_df.to_csv('mean_sentimentscore_df.csv', index=False)"
   ]
  },
  {
   "cell_type": "code",
   "execution_count": 4,
   "metadata": {},
   "outputs": [],
   "source": [
    "# Loading dataframes for article count for all years \n",
    "\n",
    "count_10 = pd.read_csv('/Users/rachelgupta/Desktop/NAACP - PIT NE/pitne-bias-in-media/summer24/notebooks/Rachel/count_2010.csv')\n",
    "count_11 = pd.read_csv('/Users/rachelgupta/Desktop/NAACP - PIT NE/pitne-bias-in-media/summer24/notebooks/Rachel/count_2011.csv')\n",
    "count_12 = pd.read_csv('/Users/rachelgupta/Desktop/NAACP - PIT NE/pitne-bias-in-media/summer24/notebooks/Rachel/count_2012.csv')\n",
    "count_13 = pd.read_csv('/Users/rachelgupta/Desktop/NAACP - PIT NE/pitne-bias-in-media/summer24/notebooks/Rachel/count_2013.csv')\n",
    "count_14 = pd.read_csv('/Users/rachelgupta/Desktop/NAACP - PIT NE/pitne-bias-in-media/summer24/notebooks/Rachel/count_2014.csv')\n",
    "count_15 = pd.read_csv('/Users/rachelgupta/Desktop/NAACP - PIT NE/pitne-bias-in-media/summer24/notebooks/Rachel/count_2015.csv')\n",
    "count_16 = pd.read_csv('/Users/rachelgupta/Desktop/NAACP - PIT NE/pitne-bias-in-media/summer24/notebooks/Rachel/count_2016.csv')\n",
    "count_17 = pd.read_csv('/Users/rachelgupta/Desktop/NAACP - PIT NE/pitne-bias-in-media/summer24/notebooks/Rachel/count_2017.csv')\n",
    "count_18 = pd.read_csv('/Users/rachelgupta/Desktop/NAACP - PIT NE/pitne-bias-in-media/summer24/notebooks/Rachel/count_2018.csv')\n",
    "count_19 = pd.read_csv('/Users/rachelgupta/Desktop/NAACP - PIT NE/pitne-bias-in-media/summer24/notebooks/Rachel/count_2019.csv')\n"
   ]
  },
  {
   "cell_type": "code",
   "execution_count": 6,
   "metadata": {},
   "outputs": [],
   "source": [
    "# Combining all years for article count dataframe \n",
    "combined_df_count = pd.concat([count_10, count_11, count_12, count_13, count_14, count_15, count_16, count_17, count_18, count_19], ignore_index=True)"
   ]
  },
  {
   "cell_type": "code",
   "execution_count": 18,
   "metadata": {},
   "outputs": [],
   "source": [
    "# Formating all values in the 'tract' column to one decimal place\n",
    "combined_df_count['tract'] = combined_df_count['tract'].map(lambda x: f\"{x:.1f}\")"
   ]
  },
  {
   "cell_type": "code",
   "execution_count": 22,
   "metadata": {},
   "outputs": [
    {
     "data": {
      "text/html": [
       "<div>\n",
       "<style scoped>\n",
       "    .dataframe tbody tr th:only-of-type {\n",
       "        vertical-align: middle;\n",
       "    }\n",
       "\n",
       "    .dataframe tbody tr th {\n",
       "        vertical-align: top;\n",
       "    }\n",
       "\n",
       "    .dataframe thead th {\n",
       "        text-align: right;\n",
       "    }\n",
       "</style>\n",
       "<table border=\"1\" class=\"dataframe\">\n",
       "  <thead>\n",
       "    <tr style=\"text-align: right;\">\n",
       "      <th></th>\n",
       "      <th>year</th>\n",
       "      <th>tract</th>\n",
       "      <th>Article_Count</th>\n",
       "    </tr>\n",
       "  </thead>\n",
       "  <tbody>\n",
       "    <tr>\n",
       "      <th>0</th>\n",
       "      <td>2010.0</td>\n",
       "      <td>803.0</td>\n",
       "      <td>35.0</td>\n",
       "    </tr>\n",
       "    <tr>\n",
       "      <th>1</th>\n",
       "      <td>2010.0</td>\n",
       "      <td>30300.0</td>\n",
       "      <td>1279.0</td>\n",
       "    </tr>\n",
       "    <tr>\n",
       "      <th>2</th>\n",
       "      <td>2010.0</td>\n",
       "      <td>402.0</td>\n",
       "      <td>2.0</td>\n",
       "    </tr>\n",
       "    <tr>\n",
       "      <th>3</th>\n",
       "      <td>2010.0</td>\n",
       "      <td>60600.0</td>\n",
       "      <td>27.0</td>\n",
       "    </tr>\n",
       "    <tr>\n",
       "      <th>4</th>\n",
       "      <td>2010.0</td>\n",
       "      <td>30200.0</td>\n",
       "      <td>11.0</td>\n",
       "    </tr>\n",
       "  </tbody>\n",
       "</table>\n",
       "</div>"
      ],
      "text/plain": [
       "     year    tract  Article_Count\n",
       "0  2010.0    803.0           35.0\n",
       "1  2010.0  30300.0         1279.0\n",
       "2  2010.0    402.0            2.0\n",
       "3  2010.0  60600.0           27.0\n",
       "4  2010.0  30200.0           11.0"
      ]
     },
     "execution_count": 22,
     "metadata": {},
     "output_type": "execute_result"
    }
   ],
   "source": [
    "combined_df_count.head()"
   ]
  },
  {
   "cell_type": "code",
   "execution_count": 20,
   "metadata": {},
   "outputs": [],
   "source": [
    "# Converting dataframe to csv file \n",
    "combined_df_count.to_csv('combined_articleCount.csv', index=False)"
   ]
  }
 ],
 "metadata": {
  "kernelspec": {
   "display_name": "Python 3",
   "language": "python",
   "name": "python3"
  },
  "language_info": {
   "codemirror_mode": {
    "name": "ipython",
    "version": 3
   },
   "file_extension": ".py",
   "mimetype": "text/x-python",
   "name": "python",
   "nbconvert_exporter": "python",
   "pygments_lexer": "ipython3",
   "version": "3.9.7"
  }
 },
 "nbformat": 4,
 "nbformat_minor": 2
}
